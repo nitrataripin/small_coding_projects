{
 "cells": [
  {
   "cell_type": "markdown",
   "metadata": {},
   "source": [
    "# Counting Number of Steps (Time Complexity) volume 1\n",
    "\n",
    "**Author**: <br> Nita Ratnawaty\n",
    "\n",
    "\n",
    "**Version**: <br>\n",
    "1.1) 30 Nov 2021 (searching (array)) <br>\n",
    "1.2) 02 Dec 2021 (searching & insertion) <br>\n",
    "1.3) 03 Dec 2021 (deletion)\n",
    "\n",
    "**Description**: <br>\n",
    "This jupyter notebook contains several codes to count the number of steps, which is also known as *time complexity*.\n",
    "We will calculate the time complexity of data structure operations (searching, insertion, and deletion) for an array and an array-based set. <br>\n",
    "\n",
    "This notebook is only a simple exercise to understand the algorithms of the data structure operations. Notes:\n",
    "1. a list is used instead of an array\n",
    "2. definition:\n",
    "    * in an array, duplicates values are allowed\n",
    "    * in an array-based set, duplicates values are not allowed\n",
    "    * nsteps refers to the number of steps needed to do the main steps of each data structure operation\n",
    "<br>\n",
    "\n",
    "\n",
    "**Reference**: <br>\n",
    "\n",
    "1. Wengrow, J. (2020). A Common-Sense Guide to Data Structures and Algorithms, Second Edition: Level Up Your Core Programming Skills (2nd ed.). Pragmatic Bookshelf. (https://pragprog.com/titles/jwdsal2/a-common-sense-guide-to-data-structures-and-algorithms-second-edition/) <br>\n",
    "2. https://www.w3schools.com/python/python_lists.asp <br>\n",
    "3. https://www.w3schools.com/python/python_sets.asp"
   ]
  },
  {
   "cell_type": "code",
   "execution_count": null,
   "metadata": {},
   "outputs": [],
   "source": []
  },
  {
   "cell_type": "markdown",
   "metadata": {},
   "source": [
    "### SEARCHING\n",
    "\n",
    "Description: <br>\n",
    "* To see whether a particular value exists within an **array** and to return the index of that value's location;\n",
    "* To see whether a particular value exists within an **array-based set**.\n",
    "\n",
    "Step(s):<br>\n",
    "* Search one by one the value in the array/array-based set."
   ]
  },
  {
   "cell_type": "markdown",
   "metadata": {},
   "source": [
    "#### Input"
   ]
  },
  {
   "cell_type": "code",
   "execution_count": 1,
   "metadata": {},
   "outputs": [
    {
     "name": "stdout",
     "output_type": "stream",
     "text": [
      "Array data =  ['alpukat', 'belimbing', 'ceremai', 'durian', 'enau', 'durian']\n",
      "Array-based set data =  ['alpukat', 'belimbing', 'ceremai', 'durian', 'enau']\n",
      "\n",
      "Python-set data =  {'ceremai', 'alpukat', 'belimbing', 'enau', 'durian'}\n"
     ]
    }
   ],
   "source": [
    "# Assume that lists below are data of an array and an array-based set\n",
    "arr     = [\"alpukat\", \"belimbing\", \"ceremai\", \"durian\", \"enau\", \"durian\"] # array\n",
    "arr_set = [\"alpukat\", \"belimbing\", \"ceremai\", \"durian\", \"enau\"] # array-based set (no duplicates)\n",
    "print(\"Array data = \", arr)\n",
    "print(\"Array-based set data = \", arr_set)\n",
    "print()\n",
    "\n",
    "\n",
    "# for additional exercise: Python set\n",
    "pyt_set = {\"alpukat\", \"belimbing\", \"ceremai\", \"durian\", \"enau\", \"durian\"}\n",
    "print(\"Python-set data = \", pyt_set)"
   ]
  },
  {
   "cell_type": "code",
   "execution_count": 2,
   "metadata": {},
   "outputs": [
    {
     "name": "stdout",
     "output_type": "stream",
     "text": [
      "Check value #1:  pisang\n",
      "Check value #2:  durian\n"
     ]
    }
   ],
   "source": [
    "# value that we're looking for\n",
    "cari1 = \"pisang\" # not in arr\n",
    "cari2 = \"durian\" # in the arr\n",
    "\n",
    "print(\"Check value #1: \", cari1)\n",
    "print(\"Check value #2: \", cari2)"
   ]
  },
  {
   "cell_type": "code",
   "execution_count": 3,
   "metadata": {},
   "outputs": [],
   "source": [
    "# additional steps for array-based-set assumption\n",
    "# number of steps is not included\n",
    "def check_arr_set(arr):\n",
    "    return list(dict.fromkeys(arr))"
   ]
  },
  {
   "cell_type": "markdown",
   "metadata": {},
   "source": [
    "#### Array & Array-based Set"
   ]
  },
  {
   "cell_type": "code",
   "execution_count": 4,
   "metadata": {},
   "outputs": [
    {
     "name": "stdout",
     "output_type": "stream",
     "text": [
      "Array: ['alpukat', 'belimbing', 'ceremai', 'durian', 'enau', 'durian']\n",
      "#element of the array = 6\n",
      "\n",
      "pisang is not in data.\n",
      "Number of steps = 6\n",
      "\n",
      "Index of durian is 3 .\n",
      "Number of steps = 4\n",
      "\n",
      "\n",
      "Array-based set: ['alpukat', 'belimbing', 'ceremai', 'durian', 'enau']\n",
      "#element of the array = 5\n",
      "\n",
      "pisang is not in data.\n",
      "Number of steps = 5\n",
      "\n",
      "Index of durian is 3 .\n",
      "Number of steps = 4\n"
     ]
    }
   ],
   "source": [
    "# returning the index of the first matched value\n",
    "def search_val1_arr(arr, cari):\n",
    "    nsteps = 0 # number of steps\n",
    "    ada = False\n",
    "    for i in range(len(arr)):\n",
    "        # counting number of steps\n",
    "        nsteps += 1\n",
    "\n",
    "        # searching the value\n",
    "        if (arr[i] == cari):\n",
    "            print(\"Index of\", cari, \"is\", i, \".\")\n",
    "            print(\"Number of steps =\", nsteps)\n",
    "            ada = True\n",
    "            break\n",
    "\n",
    "    if (ada == False) & (nsteps == len(arr)):\n",
    "        print(cari, \"is not in data.\")\n",
    "        print(\"Number of steps =\", nsteps)\n",
    "\n",
    "        \n",
    "# checking function results\n",
    "\n",
    "### ARRAY ###\n",
    "print(\"Array:\", arr)\n",
    "print(\"#element of the array =\", len(arr))\n",
    "print()\n",
    "search_val1_arr(arr, cari1)\n",
    "print()\n",
    "search_val1_arr(arr, cari2)\n",
    "print()\n",
    "print()\n",
    "\n",
    "### ARRAY-BASED SET ###\n",
    "arr_set1 = check_arr_set(arr_set)\n",
    "print(\"Array-based set:\", arr_set1)\n",
    "print(\"#element of the array =\", len(arr_set1))\n",
    "print()\n",
    "search_val1_arr(arr_set1, cari1)\n",
    "print()\n",
    "search_val1_arr(arr_set1, cari2)"
   ]
  },
  {
   "cell_type": "code",
   "execution_count": 5,
   "metadata": {},
   "outputs": [
    {
     "name": "stdout",
     "output_type": "stream",
     "text": [
      "Array: ['alpukat', 'belimbing', 'ceremai', 'durian', 'enau', 'durian']\n",
      "#element of the array = 6\n",
      "\n",
      "pisang is not in data.\n",
      "Number of steps = 6\n",
      "\n",
      "Index of durian is [3, 5]\n",
      "Number of steps = 6\n"
     ]
    }
   ],
   "source": [
    "# returning the index of the all matched values (for array only)\n",
    "\n",
    "def search_val2_arr(arr, cari):\n",
    "    nsteps  = 0 # number of steps\n",
    "    id_cari = []\n",
    "    ada     = False\n",
    "    \n",
    "    for i in range(len(arr)):\n",
    "        # counting number of steps\n",
    "        nsteps += 1\n",
    "\n",
    "        # searching the value\n",
    "        if (arr[i] == cari):            \n",
    "            ada = True\n",
    "            id_cari.append(i)\n",
    "            \n",
    "\n",
    "    if (ada ==True):\n",
    "        print(\"Index of\", cari, \"is\", id_cari)\n",
    "        print(\"Number of steps =\", nsteps)\n",
    "    else:\n",
    "        print(cari, \"is not in data.\")\n",
    "        print(\"Number of steps =\", nsteps)\n",
    "\n",
    "        \n",
    "# checking function result\n",
    "print(\"Array:\", arr)\n",
    "print(\"#element of the array =\", len(arr))\n",
    "print()\n",
    "search_val2_arr(arr, cari1)\n",
    "print()\n",
    "search_val2_arr(arr, cari2)"
   ]
  },
  {
   "cell_type": "markdown",
   "metadata": {},
   "source": [
    "#### Python Set"
   ]
  },
  {
   "cell_type": "code",
   "execution_count": 6,
   "metadata": {},
   "outputs": [
    {
     "name": "stdout",
     "output_type": "stream",
     "text": [
      "Python-set: {'ceremai', 'alpukat', 'belimbing', 'enau', 'durian'}\n",
      "#element of the Python-set = 5\n",
      "\n",
      "pisang is not in data.\n",
      "Number of steps = 5\n",
      "\n",
      "durian is in data.\n",
      "Number of steps = 1\n"
     ]
    }
   ],
   "source": [
    "# returning the number of steps to search a value in the set\n",
    "def search_val1_arr_set(pyt_set, cari):\n",
    "    nsteps = 0 # number of steps\n",
    "    ada    = False\n",
    "    sama   = False\n",
    "    \n",
    "    for i in range(len(pyt_set)):\n",
    "        # counting number of steps\n",
    "        nsteps += 1\n",
    "\n",
    "        # searching the value\n",
    "        if (cari in pyt_set):\n",
    "            print(cari, \"is in data.\")\n",
    "            print(\"Number of steps =\", nsteps)\n",
    "            ada = True\n",
    "            break\n",
    "\n",
    "    if (ada == False):\n",
    "        # (nsteps == len(arr)):\n",
    "        print(cari, \"is not in data.\")\n",
    "        print(\"Number of steps =\", nsteps)\n",
    "\n",
    "        \n",
    "# checking function result\n",
    "print(\"Python-set:\", pyt_set)\n",
    "print(\"#element of the Python-set =\", len(pyt_set))\n",
    "print()\n",
    "search_val1_arr_set(pyt_set, cari1)\n",
    "print()\n",
    "search_val1_arr_set(pyt_set, cari2)"
   ]
  },
  {
   "cell_type": "markdown",
   "metadata": {},
   "source": [
    "**Conclusion**: <br>\n",
    "If `A` is an array or an array-based set with $ N $ elements and `x` is a value we want to look for inside `A`,\n",
    "* the number of steps needed to find the first appearance of `x` in `A` is at most $ N $,\n",
    "* the number of steps needed to find the all `x` in `A` is $ N $ (applicable to array only)."
   ]
  },
  {
   "cell_type": "code",
   "execution_count": null,
   "metadata": {},
   "outputs": [],
   "source": []
  },
  {
   "cell_type": "markdown",
   "metadata": {},
   "source": [
    "### INSERTION\n",
    "\n",
    "Description: <br>\n",
    "To insert a value in a certain position (index) within an array or an array-based set.\n",
    "\n",
    "\n",
    "Step(s):<br>\n",
    "From the end of the array/array-based set:\n",
    "1. Array:\n",
    "    * take a backward step to shift the array's elements that are not equal to the given value one by one from their position to the back\n",
    "    * once we are in the desired index of the value, insert the given value\n",
    "2. Array-based set (AbS):\n",
    "    * search the given value to check whether it is alredy in AbS\n",
    "    * if the given value is in AbS, stop\n",
    "    * if the given value is not in AbS, do insertion steps like those for array"
   ]
  },
  {
   "cell_type": "code",
   "execution_count": 7,
   "metadata": {},
   "outputs": [
    {
     "name": "stdout",
     "output_type": "stream",
     "text": [
      "Array data =  ['alpukat', 'belimbing', 'ceremai', 'durian', 'enau', 'durian']\n",
      "Array-based set data =  ['alpukat', 'belimbing', 'ceremai', 'durian', 'enau']\n",
      "\n",
      "\n",
      "Value to insert #1 = pisang\n",
      "Value to insert #2 = enau\n"
     ]
    }
   ],
   "source": [
    "# Assume that lists below are data of an array and an array-based set\n",
    "arr     = [\"alpukat\", \"belimbing\", \"ceremai\", \"durian\", \"enau\", \"durian\"] # array\n",
    "arr_set = [\"alpukat\", \"belimbing\", \"ceremai\", \"durian\", \"enau\"] # array-based set (no duplicates)\n",
    "print(\"Array data = \", arr)\n",
    "print(\"Array-based set data = \", arr_set)\n",
    "print()\n",
    "print()\n",
    "\n",
    "# value that we're going to put inside the array/array-based set\n",
    "val  = \"pisang\" # new value\n",
    "val2 = \"enau\" # contained value\n",
    "\n",
    "# in the 1st position\n",
    "pos1 = 0\n",
    "# ~ in the middle\n",
    "pos2 = 3\n",
    "# in the last position\n",
    "pos31 = len(arr)\n",
    "pos32 = len(arr_set)\n",
    "\n",
    "print(\"Value to insert #1 =\", val)\n",
    "print(\"Value to insert #2 =\", val2)"
   ]
  },
  {
   "cell_type": "markdown",
   "metadata": {},
   "source": [
    "#### Array"
   ]
  },
  {
   "cell_type": "code",
   "execution_count": 8,
   "metadata": {},
   "outputs": [],
   "source": [
    "# inserting a given value val to the array\n",
    "# assume that #elements of array > 1\n",
    "\n",
    "def insert_val(arr, val, pos):\n",
    "    new_arr = arr.copy()\n",
    "    new_arr.append(None)\n",
    "    l       = len(new_arr)\n",
    "    nsteps  = 0\n",
    "    i       = l-1\n",
    "    \n",
    "    while (i >= 0):    \n",
    "        # counting number of steps\n",
    "        nsteps += 1\n",
    "\n",
    "        # inserting value\n",
    "        if (i == pos):\n",
    "            new_arr[i] = val\n",
    "            i          = -1\n",
    "        else:\n",
    "            new_arr[i] = arr[i-1]\n",
    "\n",
    "        i -= 1\n",
    "\n",
    "    \n",
    "    print(\"Number of steps =\", nsteps)\n",
    "    print(\"Destination id = \", pos)\n",
    "    print()\n",
    "    print(\"Initial array:\", arr)\n",
    "    print(\"#elements of initial array =\", l-1)\n",
    "    print()\n",
    "    print(\"Current array:\", new_arr)\n",
    "    print(\"#elements of current array =\", l)"
   ]
  },
  {
   "cell_type": "code",
   "execution_count": 9,
   "metadata": {},
   "outputs": [
    {
     "name": "stdout",
     "output_type": "stream",
     "text": [
      "Value (not in data) =  pisang\n",
      "\n",
      "===== BEGINNING =====\n",
      "Number of steps = 7\n",
      "Destination id =  0\n",
      "\n",
      "Initial array: ['alpukat', 'belimbing', 'ceremai', 'durian', 'enau', 'durian']\n",
      "#elements of initial array = 6\n",
      "\n",
      "Current array: ['pisang', 'alpukat', 'belimbing', 'ceremai', 'durian', 'enau', 'durian']\n",
      "#elements of current array = 7\n",
      "\n",
      "===== MIDDLE =====\n",
      "Number of steps = 4\n",
      "Destination id =  3\n",
      "\n",
      "Initial array: ['alpukat', 'belimbing', 'ceremai', 'durian', 'enau', 'durian']\n",
      "#elements of initial array = 6\n",
      "\n",
      "Current array: ['alpukat', 'belimbing', 'ceremai', 'pisang', 'durian', 'enau', 'durian']\n",
      "#elements of current array = 7\n",
      "\n",
      "===== LAST =====\n",
      "Number of steps = 1\n",
      "Destination id =  6\n",
      "\n",
      "Initial array: ['alpukat', 'belimbing', 'ceremai', 'durian', 'enau', 'durian']\n",
      "#elements of initial array = 6\n",
      "\n",
      "Current array: ['alpukat', 'belimbing', 'ceremai', 'durian', 'enau', 'durian', 'pisang']\n",
      "#elements of current array = 7\n",
      "\n",
      "\n",
      "Value (already in data) =  enau\n",
      "\n",
      "===== BEGINNING =====\n",
      "Number of steps = 7\n",
      "Destination id =  0\n",
      "\n",
      "Initial array: ['alpukat', 'belimbing', 'ceremai', 'durian', 'enau', 'durian']\n",
      "#elements of initial array = 6\n",
      "\n",
      "Current array: ['enau', 'alpukat', 'belimbing', 'ceremai', 'durian', 'enau', 'durian']\n",
      "#elements of current array = 7\n",
      "\n",
      "===== MIDDLE =====\n",
      "Number of steps = 4\n",
      "Destination id =  3\n",
      "\n",
      "Initial array: ['alpukat', 'belimbing', 'ceremai', 'durian', 'enau', 'durian']\n",
      "#elements of initial array = 6\n",
      "\n",
      "Current array: ['alpukat', 'belimbing', 'ceremai', 'enau', 'durian', 'enau', 'durian']\n",
      "#elements of current array = 7\n",
      "\n",
      "===== LAST =====\n",
      "Number of steps = 1\n",
      "Destination id =  6\n",
      "\n",
      "Initial array: ['alpukat', 'belimbing', 'ceremai', 'durian', 'enau', 'durian']\n",
      "#elements of initial array = 6\n",
      "\n",
      "Current array: ['alpukat', 'belimbing', 'ceremai', 'durian', 'enau', 'durian', 'enau']\n",
      "#elements of current array = 7\n"
     ]
    }
   ],
   "source": [
    "# checking function results\n",
    "print(\"Value (not in data) = \", val)\n",
    "print()\n",
    "print(\"===== BEGINNING =====\")\n",
    "insert_val(arr, val, pos1)\n",
    "print()\n",
    "# ~ in the middle\n",
    "print(\"===== MIDDLE =====\")\n",
    "insert_val(arr, val, pos2)\n",
    "print()\n",
    "print(\"===== LAST =====\")\n",
    "insert_val(arr, val, pos31)\n",
    "print()\n",
    "print()\n",
    "\n",
    "print(\"Value (already in data) = \", val2)\n",
    "print()\n",
    "print(\"===== BEGINNING =====\")\n",
    "insert_val(arr, val2, pos1)\n",
    "print()\n",
    "# ~ in the middle\n",
    "print(\"===== MIDDLE =====\")\n",
    "insert_val(arr, val2, pos2)\n",
    "print()\n",
    "print(\"===== LAST =====\")\n",
    "insert_val(arr, val2, pos31)"
   ]
  },
  {
   "cell_type": "markdown",
   "metadata": {},
   "source": [
    "#### Array-based Set"
   ]
  },
  {
   "cell_type": "code",
   "execution_count": 10,
   "metadata": {},
   "outputs": [],
   "source": [
    "# inserting a given value val to the array-based set\n",
    "# assume that #elements > 1\n",
    "\n",
    "def insert_val2(arr, val, pos):\n",
    "    new_arr = arr.copy()\n",
    "    new_arr.append(None)\n",
    "    l       = len(new_arr)\n",
    "    nsteps  = 0\n",
    "    i       = l-1\n",
    "    ada     = False\n",
    "    \n",
    "    # searching process (to check whether val is alredy in arr)\n",
    "    for j in arr:\n",
    "        # counting number of steps\n",
    "        nsteps += 1\n",
    "        \n",
    "        # checking\n",
    "        if j == val:\n",
    "            ada = True\n",
    "            print(val, \"is alredy in data.\")\n",
    "            print(\"Number of steps =\", nsteps)\n",
    "            print(\"Initial array:\", arr)\n",
    "            print(\"#elements of initial array =\", l-1)\n",
    "            break\n",
    "    \n",
    "    if (ada == False):\n",
    "        # insertion process\n",
    "        while (i >= 0):    \n",
    "            # counting number of steps\n",
    "            nsteps += 1\n",
    "\n",
    "            # inserting value\n",
    "            if (i == pos):\n",
    "                new_arr[i] = val\n",
    "                i          = -1\n",
    "            else:\n",
    "                new_arr[i] = arr[i-1]\n",
    "\n",
    "            i -= 1\n",
    "\n",
    "\n",
    "        print(\"Number of steps =\", nsteps)\n",
    "        print(\"Destination id = \", pos)\n",
    "        print()\n",
    "        print(\"Initial array:\", arr)\n",
    "        print(\"#elements of initial array =\", l-1)\n",
    "        print()\n",
    "        print(\"Current array:\", new_arr)\n",
    "        print(\"#elements of current array =\", l)\n"
   ]
  },
  {
   "cell_type": "code",
   "execution_count": 11,
   "metadata": {},
   "outputs": [
    {
     "name": "stdout",
     "output_type": "stream",
     "text": [
      "Value (not in data) =  pisang\n",
      "\n",
      "===== BEGINNING =====\n",
      "Number of steps = 11\n",
      "Destination id =  0\n",
      "\n",
      "Initial array: ['alpukat', 'belimbing', 'ceremai', 'durian', 'enau']\n",
      "#elements of initial array = 5\n",
      "\n",
      "Current array: ['pisang', 'alpukat', 'belimbing', 'ceremai', 'durian', 'enau']\n",
      "#elements of current array = 6\n",
      "\n",
      "===== MIDDLE =====\n",
      "Number of steps = 8\n",
      "Destination id =  3\n",
      "\n",
      "Initial array: ['alpukat', 'belimbing', 'ceremai', 'durian', 'enau']\n",
      "#elements of initial array = 5\n",
      "\n",
      "Current array: ['alpukat', 'belimbing', 'ceremai', 'pisang', 'durian', 'enau']\n",
      "#elements of current array = 6\n",
      "\n",
      "===== LAST =====\n",
      "Number of steps = 6\n",
      "Destination id =  5\n",
      "\n",
      "Initial array: ['alpukat', 'belimbing', 'ceremai', 'durian', 'enau']\n",
      "#elements of initial array = 5\n",
      "\n",
      "Current array: ['alpukat', 'belimbing', 'ceremai', 'durian', 'enau', 'pisang']\n",
      "#elements of current array = 6\n",
      "\n",
      "\n",
      "Value (already in data) =  enau\n",
      "\n",
      "===== BEGINNING =====\n",
      "enau is alredy in data.\n",
      "Number of steps = 5\n",
      "Initial array: ['alpukat', 'belimbing', 'ceremai', 'durian', 'enau']\n",
      "#elements of initial array = 5\n",
      "\n",
      "===== MIDDLE =====\n",
      "enau is alredy in data.\n",
      "Number of steps = 5\n",
      "Initial array: ['alpukat', 'belimbing', 'ceremai', 'durian', 'enau']\n",
      "#elements of initial array = 5\n",
      "\n",
      "===== LAST =====\n",
      "enau is alredy in data.\n",
      "Number of steps = 5\n",
      "Initial array: ['alpukat', 'belimbing', 'ceremai', 'durian', 'enau']\n",
      "#elements of initial array = 5\n"
     ]
    }
   ],
   "source": [
    "# array-based set\n",
    "arr_set1 = check_arr_set(arr_set)\n",
    "\n",
    "# checking function results\n",
    "print(\"Value (not in data) = \", val)\n",
    "print()\n",
    "print(\"===== BEGINNING =====\")\n",
    "insert_val2(arr_set1, val, pos1)\n",
    "print()\n",
    "print(\"===== MIDDLE =====\")\n",
    "insert_val2(arr_set1, val, pos2)\n",
    "print()\n",
    "print(\"===== LAST =====\")\n",
    "insert_val2(arr_set1, val, pos32)\n",
    "print()\n",
    "print()\n",
    "\n",
    "print(\"Value (already in data) = \", val2)\n",
    "print()\n",
    "print(\"===== BEGINNING =====\")\n",
    "insert_val2(arr_set1, val2, pos1)\n",
    "print()\n",
    "print(\"===== MIDDLE =====\")\n",
    "insert_val2(arr_set1, val2, pos2)\n",
    "print()\n",
    "print(\"===== LAST =====\")\n",
    "insert_val2(arr_set1, val2, pos32)"
   ]
  },
  {
   "cell_type": "markdown",
   "metadata": {},
   "source": [
    "**Conclusion**: <br>\n",
    "\n",
    "If `A` is an array with $ N $ elements, `x` is a value we want to look for inside `A`, and `y` is the destination index of `x` in `A`:\n",
    "* the number of steps needed to insert `x` in the beginning of `A` is $ N + 1 $,\n",
    "    * N steps for shifting positions and 1 step for inserting the value\n",
    "* the number of steps needed to insert `x` in the middle of `A` is $ N - y + 1 $,\n",
    "    * (N-y) steps for shifting positions and 1 step for inserting the value\n",
    "* the number of steps needed to insert `x` in the end of `A` is $ 1 $,\n",
    "    * No shifting; only need 1 step for inserting the value\n",
    "    \n",
    "    \n",
    "    \n",
    "If `A` is an array-based set with $ N $ elements, `x` is a value we want to look for inside `A`, and `y` is the destination index of `x` in `A`:\n",
    "* the number of steps needed to insert `x` in the beginning of `A` is $ 2N + 1 $,\n",
    "    * N steps for searching, N steps for shifting positions, and 1 step for inserting the value\n",
    "* the number of steps needed to insert `x` in the middle of `A` is $ 2N - y + 1 $,\n",
    "    * N steps for searching, (N-y) steps for shifting positions, and 1 step for inserting the value\n",
    "* the number of steps needed to insert `x` in the end of `A` is $ N + 1 $,\n",
    "    * N steps for searching, no shifting, only need 1 step for inserting the value\n",
    "\n",
    "\n",
    "\n",
    "*Notes:*\n",
    "Array-based set:<br>\n",
    "if `x` $ \\in $ `A`, number of steps of the algorithm is the number of searching process to find `x`."
   ]
  },
  {
   "cell_type": "code",
   "execution_count": null,
   "metadata": {},
   "outputs": [],
   "source": []
  },
  {
   "cell_type": "markdown",
   "metadata": {},
   "source": [
    "### DELETION\n",
    "\n",
    "Description:<br>\n",
    "To delete a value from an array or an array-based set at a particular index."
   ]
  },
  {
   "cell_type": "code",
   "execution_count": 12,
   "metadata": {},
   "outputs": [
    {
     "name": "stdout",
     "output_type": "stream",
     "text": [
      "Array data =  ['alpukat', 'belimbing', 'ceremai', 'durian', 'enau', 'durian']\n",
      "Array-based set data =  ['alpukat', 'belimbing', 'ceremai', 'durian', 'enau']\n"
     ]
    }
   ],
   "source": [
    "# Assume that lists below are data of an array and an array-based set\n",
    "arr     = [\"alpukat\", \"belimbing\", \"ceremai\", \"durian\", \"enau\", \"durian\"] # array\n",
    "arr_set = [\"alpukat\", \"belimbing\", \"ceremai\", \"durian\", \"enau\"] # array-based set (no duplicates)\n",
    "print(\"Array data = \", arr)\n",
    "print(\"Array-based set data = \", arr_set)"
   ]
  },
  {
   "cell_type": "code",
   "execution_count": 13,
   "metadata": {},
   "outputs": [
    {
     "name": "stdout",
     "output_type": "stream",
     "text": [
      "Value to delete = durian ; index =  3\n",
      "Number of steps = 3\n",
      "\n",
      "Initial array: ['alpukat', 'belimbing', 'ceremai', 'durian', 'enau', 'durian']\n",
      "\n",
      "Current array: ['alpukat', 'belimbing', 'ceremai', 'enau', 'durian']\n"
     ]
    }
   ],
   "source": [
    "'''\n",
    "*) to delete the given value at a particular index\n",
    "*) we can use the function for both type of data structure (array or array-based set)\n",
    "'''\n",
    "\n",
    "# value to be deleted\n",
    "val1 = \"durian\" # it has 2 elements in the array, but we will eliminate that one whose id is 3\n",
    "pos1 = 3\n",
    "\n",
    "print(\"Value to delete =\", val1, \"; index = \", pos1)\n",
    "\n",
    "\n",
    "def delete_val1(arr, pos):\n",
    "    nsteps  = 0\n",
    "    new_arr = arr.copy()\n",
    "    \n",
    "    # (assume that it is) deletion (process)\n",
    "    new_arr[pos] = None\n",
    "    nsteps += 1\n",
    "    \n",
    "    # shifting\n",
    "    for i in range(pos, len(new_arr)-1):\n",
    "        new_arr[i] = new_arr[i+1]\n",
    "        \n",
    "        # counting number of steps\n",
    "        nsteps += 1\n",
    "        \n",
    "    '''it can also be seen as the deletion process,\n",
    "    since technically, before we apply del function to new_arr,\n",
    "    its length was still the same as (the initial) arr.\n",
    "    However, the nsteps was increased by one in the previous step.\n",
    "    '''\n",
    "    del new_arr[len(new_arr)-1]\n",
    "    \n",
    "        \n",
    "    print(\"Number of steps =\", nsteps)\n",
    "    print()\n",
    "    print(\"Initial array:\", arr)\n",
    "    print()\n",
    "    #new_arr.pop()\n",
    "    print(\"Current array:\", new_arr)\n",
    "    \n",
    "\n",
    "    \n",
    "# checking function results\n",
    "delete_val1(arr, pos1)"
   ]
  },
  {
   "cell_type": "code",
   "execution_count": null,
   "metadata": {},
   "outputs": [],
   "source": []
  },
  {
   "cell_type": "markdown",
   "metadata": {},
   "source": [
    "#### Conclusion\n",
    "Let `A` be an array or an array-based set with $ N $ elements, `x` is a value we want to eliminate from `A`, and `y` is the index of `x` in `A`. With the assumption that we only need the index `y` of an element `x` that is going to be deleted from `A`:\n",
    "* the number of steps needed to delete `x` from `A` is $ N $,\n",
    "    * 1 step to delete `x` and (N-1) steps for shifting positions of the rest values which was located on the right side of `x` to the left."
   ]
  },
  {
   "cell_type": "code",
   "execution_count": null,
   "metadata": {},
   "outputs": [],
   "source": []
  }
 ],
 "metadata": {
  "kernelspec": {
   "display_name": "Python 3",
   "language": "python",
   "name": "python3"
  },
  "language_info": {
   "codemirror_mode": {
    "name": "ipython",
    "version": 3
   },
   "file_extension": ".py",
   "mimetype": "text/x-python",
   "name": "python",
   "nbconvert_exporter": "python",
   "pygments_lexer": "ipython3",
   "version": "3.8.3"
  }
 },
 "nbformat": 4,
 "nbformat_minor": 4
}
