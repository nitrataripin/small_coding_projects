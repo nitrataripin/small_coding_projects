{
 "cells": [
  {
   "cell_type": "markdown",
   "metadata": {},
   "source": [
    "# Set of codes to print odd or even numbers in a range of integers\n",
    "\n",
    "**Author**: <br> Nita Ratnawaty\n",
    "\n",
    "\n",
    "**Version**:\n",
    "1. 29 Nov 2021\n",
    "\n",
    "\n",
    "**Description**:\n",
    "<br>This jupyter notebook contains several codes to print odd or even numbers."
   ]
  },
  {
   "cell_type": "code",
   "execution_count": null,
   "metadata": {},
   "outputs": [],
   "source": []
  },
  {
   "cell_type": "code",
   "execution_count": 48,
   "metadata": {},
   "outputs": [],
   "source": [
    "# input: range of integers\n",
    "a = 2  # lower bound\n",
    "b = 10 # upper bound"
   ]
  },
  {
   "cell_type": "markdown",
   "metadata": {},
   "source": [
    "### Exercise 1\n",
    "Print all even numbers in range [a, b]"
   ]
  },
  {
   "cell_type": "code",
   "execution_count": 50,
   "metadata": {},
   "outputs": [
    {
     "name": "stdout",
     "output_type": "stream",
     "text": [
      "Even number(s) in the range [ 2 , 10 ]:\n",
      "2\n",
      "4\n",
      "6\n",
      "8\n",
      "10\n"
     ]
    }
   ],
   "source": [
    "## version 1\n",
    "# check whether the number is even by using modulo\n",
    "\n",
    "def print_even1(a, b):\n",
    "    while a <= b:\n",
    "        if a % 2 == 0:\n",
    "            print(a)\n",
    "            \n",
    "        a += 1\n",
    "        \n",
    "\n",
    "## check version 1\n",
    "print(\"Even number(s) in the range [\", a, \",\", b, \"]:\")\n",
    "print_even1(a, b)"
   ]
  },
  {
   "cell_type": "code",
   "execution_count": 51,
   "metadata": {},
   "outputs": [
    {
     "name": "stdout",
     "output_type": "stream",
     "text": [
      "Even number(s) in the range [ 2 , 10 ]:\n",
      "2\n",
      "4\n",
      "6\n",
      "8\n",
      "10\n"
     ]
    }
   ],
   "source": [
    "## version 2\n",
    "# check whether the number is even by looking at the lower bound and upper bound values\n",
    "\n",
    "def print_even2(a, b):\n",
    "    if a % 2 != 0:\n",
    "        a = a + 1\n",
    "    \n",
    "    if b % 2 != 0:\n",
    "        b = b - 1\n",
    "    \n",
    "    while a <= b:\n",
    "        print (a)\n",
    "        a += 2\n",
    "        \n",
    "        \n",
    "## check version 2\n",
    "print(\"Even number(s) in the range [\", a, \",\", b, \"]:\")\n",
    "print_even2(a, b)"
   ]
  },
  {
   "cell_type": "code",
   "execution_count": null,
   "metadata": {},
   "outputs": [],
   "source": []
  },
  {
   "cell_type": "markdown",
   "metadata": {},
   "source": [
    "### Exercise 2\n",
    "Print all odd numbers in range [a, b]"
   ]
  },
  {
   "cell_type": "code",
   "execution_count": 52,
   "metadata": {},
   "outputs": [
    {
     "name": "stdout",
     "output_type": "stream",
     "text": [
      "Odd number(s) in the range [ 2 , 10 ]:\n",
      "3\n",
      "5\n",
      "7\n",
      "9\n"
     ]
    }
   ],
   "source": [
    "## version 1\n",
    "# check whether the number is odd by using modulo\n",
    "\n",
    "def print_odd1(a, b):\n",
    "    while a <= b:\n",
    "        if a % 2 != 0:\n",
    "            print(a)\n",
    "            \n",
    "        a += 1\n",
    "        \n",
    "\n",
    "## check version 1\n",
    "print(\"Odd number(s) in the range [\", a, \",\", b, \"]:\")\n",
    "print_odd1(a, b)"
   ]
  },
  {
   "cell_type": "code",
   "execution_count": 53,
   "metadata": {},
   "outputs": [
    {
     "name": "stdout",
     "output_type": "stream",
     "text": [
      "Odd number(s) in the range [ 2 , 10 ]:\n",
      "3\n",
      "5\n",
      "7\n",
      "9\n"
     ]
    }
   ],
   "source": [
    "## version 2\n",
    "# check whether the number is even by looking at the lower bound and upper bound values\n",
    "\n",
    "def print_odd2(a, b):\n",
    "    if a % 2 == 0:\n",
    "        a = a + 1\n",
    "    \n",
    "    if b % 2 == 0:\n",
    "        b = b - 1\n",
    "    \n",
    "    while a <= b:\n",
    "        print (a)\n",
    "        a += 2\n",
    "        \n",
    "        \n",
    "## check version 2\n",
    "print(\"Odd number(s) in the range [\", a, \",\", b, \"]:\")\n",
    "print_odd2(a, b)"
   ]
  },
  {
   "cell_type": "code",
   "execution_count": null,
   "metadata": {},
   "outputs": [],
   "source": []
  },
  {
   "cell_type": "markdown",
   "metadata": {},
   "source": [
    "### Exercise 3\n",
    "Print all odd and even numbers in range [a, b]"
   ]
  },
  {
   "cell_type": "code",
   "execution_count": 54,
   "metadata": {},
   "outputs": [
    {
     "name": "stdout",
     "output_type": "stream",
     "text": [
      "In the range [ 2 , 10 ]:\n",
      "odd numbers =  [3, 5, 7, 9]\n",
      "even numbers =  [2, 4, 6, 8, 10]\n"
     ]
    }
   ],
   "source": [
    "def print_oddeven(a, b):\n",
    "    print(\"In the range [\", a, \",\", b, \"]:\")\n",
    "    \n",
    "    odd = [] # initialize variable to store odd numbers\n",
    "    evn = [] # initialize variable to store even numbers\n",
    "    \n",
    "    while a <= b:\n",
    "        if a % 2 == 0:\n",
    "            evn.append(a)\n",
    "        else:\n",
    "            odd.append(a)\n",
    "            \n",
    "        a += 1\n",
    "        \n",
    "    \n",
    "    print(\"odd numbers = \", odd)\n",
    "    print(\"even numbers = \", evn)\n",
    "        \n",
    "\n",
    "## check\n",
    "print_oddeven(a, b)"
   ]
  },
  {
   "cell_type": "code",
   "execution_count": null,
   "metadata": {},
   "outputs": [],
   "source": []
  }
 ],
 "metadata": {
  "kernelspec": {
   "display_name": "Python 3",
   "language": "python",
   "name": "python3"
  },
  "language_info": {
   "codemirror_mode": {
    "name": "ipython",
    "version": 3
   },
   "file_extension": ".py",
   "mimetype": "text/x-python",
   "name": "python",
   "nbconvert_exporter": "python",
   "pygments_lexer": "ipython3",
   "version": "3.8.3"
  }
 },
 "nbformat": 4,
 "nbformat_minor": 4
}
